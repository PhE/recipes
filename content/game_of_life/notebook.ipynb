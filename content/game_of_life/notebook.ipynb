{
 "cells": [
  {
   "cell_type": "markdown",
   "metadata": {
    "trusted": true
   },
   "source": [
    "# Game of Life\n",
    "\n",
    "This notebook run all tests.\n",
    "You can also run some defined functions."
   ]
  },
  {
   "cell_type": "code",
   "execution_count": 15,
   "metadata": {
    "trusted": true
   },
   "outputs": [],
   "source": [
    "import pytest"
   ]
  },
  {
   "cell_type": "code",
   "execution_count": 16,
   "metadata": {
    "trusted": true
   },
   "outputs": [
    {
     "name": "stdout",
     "output_type": "stream",
     "text": [
      "\u001b[1m============================= test session starts ==============================\u001b[0m\n",
      "platform linux -- Python 3.12.2, pytest-8.3.4, pluggy-1.5.0 -- /home/philippe/src/recipes/.venv/bin/python\n",
      "cachedir: .pytest_cache\n",
      "rootdir: /home/philippe/src/recipes\n",
      "configfile: pyproject.toml\n",
      "plugins: anyio-4.6.2.post1\n",
      "\u001b[1mcollecting ... \u001b[0mcollected 10 items\n",
      "\n",
      "test_serialize.py::test_save_board \u001b[32mPASSED\u001b[0m\u001b[32m                                [ 10%]\u001b[0m\n",
      "test_serialize.py::test_load_board_M1 \u001b[32mPASSED\u001b[0m\u001b[32m                             [ 20%]\u001b[0m\n",
      "test_serialize.py::test_load_board_M5 \u001b[32mPASSED\u001b[0m\u001b[32m                             [ 30%]\u001b[0m\n",
      "test_simulate.py::test_1 \u001b[32mPASSED\u001b[0m\u001b[32m                                          [ 40%]\u001b[0m\n",
      "test_simulate.py::test_simulate_M5 \u001b[32mPASSED\u001b[0m\u001b[32m                                [ 50%]\u001b[0m\n",
      "test_simulate.py::test_simulate_M4 \u001b[32mPASSED\u001b[0m\u001b[32m                                [ 60%]\u001b[0m\n",
      "test_utils.py::test_bidon \u001b[32mPASSED\u001b[0m\u001b[32m                                         [ 70%]\u001b[0m\n",
      "test_utils.py::test_vide \u001b[32mPASSED\u001b[0m\u001b[32m                                          [ 80%]\u001b[0m\n",
      "test_utils.py::test_2 \u001b[32mPASSED\u001b[0m\u001b[32m                                             [ 90%]\u001b[0m\n",
      "test_utils.py::test_2b \u001b[32mPASSED\u001b[0m\u001b[32m                                            [100%]\u001b[0m\n",
      "\n",
      "\u001b[32m============================== \u001b[32m\u001b[1m10 passed\u001b[0m\u001b[32m in 0.05s\u001b[0m\u001b[32m ==============================\u001b[0m\n"
     ]
    },
    {
     "data": {
      "text/plain": [
       "<ExitCode.OK: 0>"
      ]
     },
     "execution_count": 16,
     "metadata": {},
     "output_type": "execute_result"
    }
   ],
   "source": [
    "pytest.main(['-v'])"
   ]
  },
  {
   "cell_type": "code",
   "execution_count": 17,
   "metadata": {
    "editable": true,
    "slideshow": {
     "slide_type": ""
    },
    "tags": [],
    "trusted": true
   },
   "outputs": [],
   "source": [
    "from utils import *\n",
    "from simulate import *\n",
    "from serialize import *\n",
    "from test_utils import *"
   ]
  },
  {
   "cell_type": "code",
   "execution_count": 18,
   "metadata": {},
   "outputs": [
    {
     "name": "stdout",
     "output_type": "stream",
     "text": [
      "00000\n",
      "00100\n",
      "01110\n",
      "00100\n",
      "00000\n"
     ]
    },
    {
     "data": {
      "text/plain": [
       "'00000\\n00100\\n01110\\n00100\\n00000\\n'"
      ]
     },
     "execution_count": 18,
     "metadata": {},
     "output_type": "execute_result"
    }
   ],
   "source": [
    "print_board(M5)"
   ]
  },
  {
   "cell_type": "code",
   "execution_count": 19,
   "metadata": {},
   "outputs": [
    {
     "name": "stdout",
     "output_type": "stream",
     "text": [
      "00000\n",
      "01110\n",
      "01010\n",
      "01110\n",
      "00000\n"
     ]
    },
    {
     "data": {
      "text/plain": [
       "'00000\\n01110\\n01010\\n01110\\n00000\\n'"
      ]
     },
     "execution_count": 19,
     "metadata": {},
     "output_type": "execute_result"
    }
   ],
   "source": [
    "print_board(next_turn(M5))"
   ]
  },
  {
   "cell_type": "code",
   "execution_count": null,
   "metadata": {},
   "outputs": [],
   "source": []
  }
 ],
 "metadata": {
  "kernelspec": {
   "display_name": ".venv",
   "language": "python",
   "name": "python3"
  },
  "language_info": {
   "codemirror_mode": {
    "name": "ipython",
    "version": 3
   },
   "file_extension": ".py",
   "mimetype": "text/x-python",
   "name": "python",
   "nbconvert_exporter": "python",
   "pygments_lexer": "ipython3",
   "version": "3.12.2"
  }
 },
 "nbformat": 4,
 "nbformat_minor": 4
}
